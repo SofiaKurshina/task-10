{
  "cells": [
    {
      "cell_type": "code",
      "execution_count": 1,
      "metadata": {
        "id": "yw7uPLkFI49w",
        "colab": {
          "base_uri": "https://localhost:8080/"
        },
        "outputId": "249dcd13-17f8-4285-b603-777396d0521b"
      },
      "outputs": [
        {
          "output_type": "stream",
          "name": "stdout",
          "text": [
            "Selecting previously unselected package libfontenc1:amd64.\n",
            "(Reading database ... 121920 files and directories currently installed.)\n",
            "Preparing to unpack .../0-libfontenc1_1%3a1.1.4-1build3_amd64.deb ...\n",
            "Unpacking libfontenc1:amd64 (1:1.1.4-1build3) ...\n",
            "Selecting previously unselected package libxfont2:amd64.\n",
            "Preparing to unpack .../1-libxfont2_1%3a2.0.5-1build1_amd64.deb ...\n",
            "Unpacking libxfont2:amd64 (1:2.0.5-1build1) ...\n",
            "Selecting previously unselected package libxkbfile1:amd64.\n",
            "Preparing to unpack .../2-libxkbfile1_1%3a1.1.0-1build3_amd64.deb ...\n",
            "Unpacking libxkbfile1:amd64 (1:1.1.0-1build3) ...\n",
            "Selecting previously unselected package x11-xkb-utils.\n",
            "Preparing to unpack .../3-x11-xkb-utils_7.7+5build4_amd64.deb ...\n",
            "Unpacking x11-xkb-utils (7.7+5build4) ...\n",
            "Selecting previously unselected package xfonts-encodings.\n",
            "Preparing to unpack .../4-xfonts-encodings_1%3a1.0.5-0ubuntu2_all.deb ...\n",
            "Unpacking xfonts-encodings (1:1.0.5-0ubuntu2) ...\n",
            "Selecting previously unselected package xfonts-utils.\n",
            "Preparing to unpack .../5-xfonts-utils_1%3a7.7+6build2_amd64.deb ...\n",
            "Unpacking xfonts-utils (1:7.7+6build2) ...\n",
            "Selecting previously unselected package xfonts-base.\n",
            "Preparing to unpack .../6-xfonts-base_1%3a1.0.5_all.deb ...\n",
            "Unpacking xfonts-base (1:1.0.5) ...\n",
            "Selecting previously unselected package xserver-common.\n",
            "Preparing to unpack .../7-xserver-common_2%3a21.1.4-2ubuntu1.7~22.04.10_all.deb ...\n",
            "Unpacking xserver-common (2:21.1.4-2ubuntu1.7~22.04.10) ...\n",
            "Selecting previously unselected package xvfb.\n",
            "Preparing to unpack .../8-xvfb_2%3a21.1.4-2ubuntu1.7~22.04.10_amd64.deb ...\n",
            "Unpacking xvfb (2:21.1.4-2ubuntu1.7~22.04.10) ...\n",
            "Setting up libfontenc1:amd64 (1:1.1.4-1build3) ...\n",
            "Setting up xfonts-encodings (1:1.0.5-0ubuntu2) ...\n",
            "Setting up libxkbfile1:amd64 (1:1.1.0-1build3) ...\n",
            "Setting up libxfont2:amd64 (1:2.0.5-1build1) ...\n",
            "Setting up x11-xkb-utils (7.7+5build4) ...\n",
            "Setting up xfonts-utils (1:7.7+6build2) ...\n",
            "Setting up xfonts-base (1:1.0.5) ...\n",
            "Setting up xserver-common (2:21.1.4-2ubuntu1.7~22.04.10) ...\n",
            "Setting up xvfb (2:21.1.4-2ubuntu1.7~22.04.10) ...\n",
            "Processing triggers for man-db (2.10.2-1) ...\n",
            "Processing triggers for fontconfig (2.13.1-4.2ubuntu5) ...\n",
            "Processing triggers for libc-bin (2.35-0ubuntu3.4) ...\n",
            "/sbin/ldconfig.real: /usr/local/lib/libtbbbind_2_0.so.3 is not a symbolic link\n",
            "\n",
            "/sbin/ldconfig.real: /usr/local/lib/libtbbmalloc.so.2 is not a symbolic link\n",
            "\n",
            "/sbin/ldconfig.real: /usr/local/lib/libtbbmalloc_proxy.so.2 is not a symbolic link\n",
            "\n",
            "/sbin/ldconfig.real: /usr/local/lib/libtbbbind.so.3 is not a symbolic link\n",
            "\n",
            "/sbin/ldconfig.real: /usr/local/lib/libtbbbind_2_5.so.3 is not a symbolic link\n",
            "\n",
            "/sbin/ldconfig.real: /usr/local/lib/libtbb.so.12 is not a symbolic link\n",
            "\n",
            "Starting virtual X frame buffer: Xvfb.\n"
          ]
        }
      ],
      "source": [
        "import sys, os\n",
        "if 'google.colab' in sys.modules and not os.path.exists('.setup_complete'):\n",
        "    !wget -q https://raw.githubusercontent.com/yandexdataschool/Practical_RL/master/setup_colab.sh -O- | bash\n",
        "    !touch .setup_complete\n",
        "\n",
        "# This code creates a virtual display to draw game images on.\n",
        "# It will have no effect if your machine has a monitor.\n",
        "if type(os.environ.get(\"DISPLAY\")) is not str or len(os.environ.get(\"DISPLAY\")) == 0:\n",
        "    !bash ../xvfb start\n",
        "    os.environ['DISPLAY'] = ':1'"
      ]
    },
    {
      "cell_type": "markdown",
      "metadata": {
        "id": "HFhmE0HxI49t"
      },
      "source": [
        "# Approximate q-learning (10 pts)\n",
        "\n",
        "In this notebook you will teach a __PyTorch__ neural network to do Q-learning."
      ]
    },
    {
      "cell_type": "code",
      "execution_count": 2,
      "metadata": {
        "id": "skMa7z5cI49x"
      },
      "outputs": [],
      "source": [
        "import gym\n",
        "import numpy as np\n",
        "import pandas as pd\n",
        "import matplotlib.pyplot as plt\n",
        "%matplotlib inline"
      ]
    },
    {
      "cell_type": "code",
      "execution_count": 3,
      "metadata": {
        "id": "XDbfOfDjI49y",
        "colab": {
          "base_uri": "https://localhost:8080/",
          "height": 572
        },
        "outputId": "852a3fb6-01c3-4140-ca78-038ff87e9742"
      },
      "outputs": [
        {
          "output_type": "stream",
          "name": "stderr",
          "text": [
            "/usr/local/lib/python3.10/dist-packages/gym/envs/registration.py:593: UserWarning: \u001b[33mWARN: The environment CartPole-v0 is out of date. You should consider upgrading to version `v1`.\u001b[0m\n",
            "  logger.warn(\n",
            "/usr/local/lib/python3.10/dist-packages/gym/core.py:317: DeprecationWarning: \u001b[33mWARN: Initializing wrapper in old step API which returns one bool instead of two. It is recommended to set `new_step_api=True` to use new step API. This will be the default behaviour in future.\u001b[0m\n",
            "  deprecation(\n",
            "/usr/local/lib/python3.10/dist-packages/gym/wrappers/step_api_compatibility.py:39: DeprecationWarning: \u001b[33mWARN: Initializing environment in old step API which returns one bool instead of two. It is recommended to set `new_step_api=True` to use new step API. This will be the default behaviour in future.\u001b[0m\n",
            "  deprecation(\n",
            "/usr/local/lib/python3.10/dist-packages/gym/core.py:43: DeprecationWarning: \u001b[33mWARN: The argument mode in render method is deprecated; use render_mode during environment initialization instead.\n",
            "See here for more information: https://www.gymlibrary.ml/content/api/\u001b[0m\n",
            "  deprecation(\n"
          ]
        },
        {
          "output_type": "display_data",
          "data": {
            "text/plain": [
              "<Figure size 640x480 with 1 Axes>"
            ],
            "image/png": "[encoded data removed]"
          },
          "metadata": {}
        }
      ],
      "source": [
        "env = gym.make(\"CartPole-v0\").env\n",
        "env.reset()\n",
        "n_actions = env.action_space.n\n",
        "state_dim = env.observation_space.shape\n",
        "\n",
        "plt.imshow(env.render(\"rgb_array\"))\n",
        "env.close()"
      ]
    },
    {
      "cell_type": "markdown",
      "metadata": {
        "id": "OvUtcMzZI49y"
      },
      "source": [
        "# Approximate Q-learning: building the network\n",
        "\n",
        "To train a neural network policy one must have a neural network policy. Let's build it.\n",
        "\n",
        "\n",
        "Since we're working with a pre-extracted features (cart positions, angles and velocities), we don't need a complicated network yet. In fact, let's build something like this for starters:\n",
        "\n",
        "![img](https://raw.githubusercontent.com/yandexdataschool/Practical_RL/master/yet_another_week/_resource/qlearning_scheme.png)\n",
        "\n",
        "For your first run, please only use linear layers (`nn.Linear`) and activations. Stuff like batch normalization or dropout may ruin everything if used haphazardly.\n",
        "\n",
        "Also please avoid using nonlinearities like sigmoid & tanh: since agent's observations are not normalized, sigmoids might be saturated at initialization. Instead, use non-saturating nonlinearities like ReLU.\n",
        "\n",
        "Ideally you should start small with maybe 1-2 hidden layers with < 200 neurons and then increase network size if agent doesn't beat the target score."
      ]
    },
    {
      "cell_type": "code",
      "execution_count": 4,
      "metadata": {
        "id": "7cz-CEy0I49z"
      },
      "outputs": [],
      "source": [
        "import torch\n",
        "import torch.nn as nn\n",
        "import torch.nn.functional as F"
      ]
    },
    {
      "cell_type": "code",
      "execution_count": 5,
      "metadata": {
        "id": "CehGlT_1I49z"
      },
      "outputs": [],
      "source": [
        "network = nn.Sequential()\n",
        "\n",
        "network.add_module('layer1', nn.Sequential(nn.Linear(state_dim[0], 128), nn.ReLU()))\n",
        "\n",
        "network.add_module('layer2', nn.Sequential(nn.Linear(128, 64), nn.ReLU()))\n",
        "\n",
        "network.add_module('out',nn.Linear(64, n_actions))"
      ]
    },
    {
      "cell_type": "code",
      "execution_count": 6,
      "metadata": {
        "id": "3iFr8ELzI490"
      },
      "outputs": [],
      "source": [
        "def get_action(state, epsilon=0):\n",
        "    state = torch.tensor(state[None], dtype=torch.float32)\n",
        "    q_values = network(state).detach().numpy()\n",
        "    if np.random.rand() < epsilon:\n",
        "        action = np.random.randint(len(q_values[0]))\n",
        "    else:\n",
        "        action = np.argmax(q_values)\n",
        "    return int(action)"
      ]
    },
    {
      "cell_type": "code",
      "execution_count": 7,
      "metadata": {
        "id": "fGIdi1fSI490",
        "colab": {
          "base_uri": "https://localhost:8080/"
        },
        "outputId": "3d1b66fc-40e2-4c60-fab2-183af4070af3"
      },
      "outputs": [
        {
          "output_type": "stream",
          "name": "stderr",
          "text": [
            "<ipython-input-7-a33e8fbd8be3>:2: UserWarning: Creating a tensor from a list of numpy.ndarrays is extremely slow. Please consider converting the list to a single numpy.ndarray with numpy.array() before converting to a tensor. (Triggered internally at ../torch/csrc/utils/tensor_new.cpp:275.)\n",
            "  assert tuple(network(torch.tensor([s]*3, dtype=torch.float32)).size()) == (\n"
          ]
        },
        {
          "output_type": "stream",
          "name": "stdout",
          "text": [
            "e=0.0 tests passed\n",
            "e=0.1 tests passed\n",
            "e=0.5 tests passed\n",
            "e=1.0 tests passed\n"
          ]
        }
      ],
      "source": [
        "s = env.reset()\n",
        "assert tuple(network(torch.tensor([s]*3, dtype=torch.float32)).size()) == (\n",
        "    3, n_actions), \"please make sure your model maps state s -> [Q(s,a0), ..., Q(s, a_last)]\"\n",
        "assert isinstance(list(network.modules(\n",
        "))[-1], nn.Linear), \"please make sure you predict q-values without nonlinearity (ignore if you know what you're doing)\"\n",
        "assert isinstance(get_action(\n",
        "    s), int), \"get_action(s) must return int, not %s. try int(action)\" % (type(get_action(s)))\n",
        "\n",
        "# test epsilon-greedy exploration\n",
        "for eps in [0., 0.1, 0.5, 1.0]:\n",
        "    state_frequencies = np.bincount(\n",
        "        [get_action(s, epsilon=eps) for i in range(10000)], minlength=n_actions)\n",
        "    best_action = state_frequencies.argmax()\n",
        "    assert abs(state_frequencies[best_action] -\n",
        "               10000 * (1 - eps + eps / n_actions)) < 200\n",
        "    for other_action in range(n_actions):\n",
        "        if other_action != best_action:\n",
        "            assert abs(state_frequencies[other_action] -\n",
        "                       10000 * (eps / n_actions)) < 200\n",
        "    print('e=%.1f tests passed' % eps)"
      ]
    },
    {
      "cell_type": "markdown",
      "metadata": {
        "id": "D9fiNWZKI491"
      },
      "source": [
        "### Q-learning via gradient descent\n",
        "\n",
        "We shall now train our agent's Q-function by minimizing the TD loss:\n",
        "$$ L = { 1 \\over N} \\sum_i (Q_{\\theta}(s,a) - [r(s,a) + \\gamma \\cdot max_{a'} Q_{-}(s', a')]) ^2 $$\n",
        "\n",
        "\n",
        "Where\n",
        "* $s, a, r, s'$ are current state, action, reward and next state respectively\n",
        "* $\\gamma$ is a discount factor defined two cells above.\n",
        "\n",
        "The tricky part is with  $Q_{-}(s',a')$. From an engineering standpoint, it's the same as $Q_{\\theta}$ - the output of your neural network policy. However, when doing gradient descent, __we won't propagate gradients through it__ to make training more stable.\n",
        "\n",
        "To do so, we shall use `x.detach()` function which basically says \"consider this thing constant when doingbackprop\"."
      ]
    },
    {
      "cell_type": "code",
      "execution_count": 8,
      "metadata": {
        "id": "AVFj3M10I491"
      },
      "outputs": [],
      "source": [
        "def compute_td_loss(states, actions, rewards, next_states, is_done, gamma=0.99, check_shapes=False):\n",
        "    states = torch.tensor(states, dtype=torch.float32)\n",
        "    actions = torch.tensor(actions, dtype=torch.long)\n",
        "    rewards = torch.tensor(rewards, dtype=torch.float32)\n",
        "    next_states = torch.tensor(next_states, dtype=torch.float32)\n",
        "    is_done = torch.tensor(is_done, dtype=torch.uint8)\n",
        "    predicted_qvalues = network(states)\n",
        "    predicted_qvalues_for_actions = predicted_qvalues[range(states.shape[0]), actions]\n",
        "    predicted_next_qvalues = network(next_states)\n",
        "    next_state_values = torch.max(predicted_next_qvalues, dim=1)[0]\n",
        "    assert next_state_values.dtype == torch.float32\n",
        "    target_qvalues_for_actions = rewards + gamma * next_state_values\n",
        "    target_qvalues_for_actions = torch.where(\n",
        "        is_done, rewards, target_qvalues_for_actions)\n",
        "    loss = torch.mean((predicted_qvalues_for_actions -\n",
        "                       target_qvalues_for_actions.detach()) ** 2)\n",
        "    if check_shapes:\n",
        "        assert predicted_next_qvalues.data.dim(\n",
        "        ) == 2, \"make sure you predicted q-values for all actions in next state\"\n",
        "        assert next_state_values.data.dim(\n",
        "        ) == 1, \"make sure you computed V(s') as maximum over just the actions axis and not all axes\"\n",
        "        assert target_qvalues_for_actions.data.dim(\n",
        "        ) == 1, \"there's something wrong with target q-values, they must be a vector\"\n",
        "    return loss"
      ]
    },
    {
      "cell_type": "code",
      "execution_count": 9,
      "metadata": {
        "id": "mR9ZKqSRI492",
        "colab": {
          "base_uri": "https://localhost:8080/"
        },
        "outputId": "facc5a7e-9d92-4d7d-9ecb-a373b80ab7a6"
      },
      "outputs": [
        {
          "output_type": "stream",
          "name": "stderr",
          "text": [
            "/usr/local/lib/python3.10/dist-packages/gym/utils/passive_env_checker.py:241: DeprecationWarning: `np.bool8` is a deprecated alias for `np.bool_`.  (Deprecated NumPy 1.24)\n",
            "  if not isinstance(terminated, (bool, np.bool8)):\n",
            "<ipython-input-8-102a3052054a>:13: UserWarning: where received a uint8 condition tensor. This behavior is deprecated and will be removed in a future version of PyTorch. Use a boolean condition instead. (Triggered internally at ../aten/src/ATen/native/TensorCompare.cpp:519.)\n",
            "  target_qvalues_for_actions = torch.where(\n"
          ]
        }
      ],
      "source": [
        "# sanity checks\n",
        "s = env.reset()\n",
        "a = env.action_space.sample()\n",
        "next_s, r, done, _ = env.step(a)\n",
        "loss = compute_td_loss([s], [a], [r], [next_s], [done], check_shapes=True)\n",
        "loss.backward()\n",
        "\n",
        "assert len(loss.size()) == 0, \"you must return scalar loss - mean over batch\"\n",
        "assert np.any(next(network.parameters()).grad.detach().numpy() !=\n",
        "              0), \"loss must be differentiable w.r.t. network weights\""
      ]
    },
    {
      "cell_type": "markdown",
      "metadata": {
        "id": "eo6b0b4vI492"
      },
      "source": [
        "### Playing the game"
      ]
    },
    {
      "cell_type": "code",
      "execution_count": 10,
      "metadata": {
        "id": "-u1vXYQII492"
      },
      "outputs": [],
      "source": [
        "opt = torch.optim.Adam(network.parameters(), lr=1e-4)"
      ]
    },
    {
      "cell_type": "code",
      "execution_count": 11,
      "metadata": {
        "id": "EbtIGLEuI493"
      },
      "outputs": [],
      "source": [
        "def generate_session(env, t_max=1000, epsilon=0, train=False):\n",
        "    \"\"\"play env with approximate q-learning agent and train it at the same time\"\"\"\n",
        "    total_reward = 0\n",
        "    s = env.reset()\n",
        "\n",
        "    for t in range(t_max):\n",
        "        a = get_action(s, epsilon=epsilon)\n",
        "        next_s, r, done, _ = env.step(a)\n",
        "\n",
        "        if train:\n",
        "            opt.zero_grad()\n",
        "            compute_td_loss([s], [a], [r], [next_s], [done]).backward()\n",
        "            opt.step()\n",
        "\n",
        "        total_reward += r\n",
        "        s = next_s\n",
        "        if done:\n",
        "            break\n",
        "\n",
        "    return total_reward"
      ]
    },
    {
      "cell_type": "code",
      "execution_count": 12,
      "metadata": {
        "id": "G-79ol_HI493"
      },
      "outputs": [],
      "source": [
        "epsilon = 0.5"
      ]
    },
    {
      "cell_type": "code",
      "execution_count": 13,
      "metadata": {
        "id": "jBBE6LhRI493",
        "colab": {
          "base_uri": "https://localhost:8080/"
        },
        "outputId": "675811c1-e4e9-42c4-880b-e2cc21de0301"
      },
      "outputs": [
        {
          "output_type": "stream",
          "name": "stdout",
          "text": [
            "epoch #0\tmean reward = 13.560\tepsilon = 0.500\n",
            "epoch #1\tmean reward = 13.580\tepsilon = 0.495\n",
            "epoch #2\tmean reward = 14.390\tepsilon = 0.490\n",
            "epoch #3\tmean reward = 13.950\tepsilon = 0.485\n",
            "epoch #4\tmean reward = 15.130\tepsilon = 0.480\n",
            "epoch #5\tmean reward = 25.240\tepsilon = 0.475\n",
            "epoch #6\tmean reward = 33.840\tepsilon = 0.471\n",
            "epoch #7\tmean reward = 36.440\tepsilon = 0.466\n",
            "epoch #8\tmean reward = 53.070\tepsilon = 0.461\n",
            "epoch #9\tmean reward = 53.600\tepsilon = 0.457\n",
            "epoch #10\tmean reward = 66.410\tepsilon = 0.452\n",
            "epoch #11\tmean reward = 100.370\tepsilon = 0.448\n",
            "epoch #12\tmean reward = 123.530\tepsilon = 0.443\n",
            "epoch #13\tmean reward = 149.310\tepsilon = 0.439\n",
            "epoch #14\tmean reward = 150.870\tepsilon = 0.434\n",
            "epoch #15\tmean reward = 178.530\tepsilon = 0.430\n",
            "epoch #16\tmean reward = 157.650\tepsilon = 0.426\n",
            "epoch #17\tmean reward = 143.120\tepsilon = 0.421\n",
            "epoch #18\tmean reward = 171.270\tepsilon = 0.417\n",
            "epoch #19\tmean reward = 191.840\tepsilon = 0.413\n",
            "epoch #20\tmean reward = 241.040\tepsilon = 0.409\n",
            "epoch #21\tmean reward = 253.300\tepsilon = 0.405\n",
            "epoch #22\tmean reward = 252.430\tepsilon = 0.401\n",
            "epoch #23\tmean reward = 306.580\tepsilon = 0.397\n",
            "You Win!\n"
          ]
        }
      ],
      "source": [
        "for i in range(1000):\n",
        "    session_rewards = [generate_session(env, epsilon=epsilon, train=True) for _ in range(100)]\n",
        "    print(\"epoch #{}\\tmean reward = {:.3f}\\tepsilon = {:.3f}\".format(i, np.mean(session_rewards), epsilon))\n",
        "\n",
        "    epsilon *= 0.99\n",
        "    assert epsilon >= 1e-4, \"Make sure epsilon is always nonzero during training\"\n",
        "\n",
        "    if np.mean(session_rewards) > 300:\n",
        "        print(\"You Win!\")\n",
        "        break"
      ]
    },
    {
      "cell_type": "markdown",
      "metadata": {
        "id": "xqGiLPzHI493"
      },
      "source": [
        "### How to interpret results\n",
        "\n",
        "\n",
        "Welcome to the f.. world of deep f...n reinforcement learning. Don't expect agent's reward to smoothly go up. Hope for it to go increase eventually. If it deems you worthy.\n",
        "\n",
        "Seriously though,\n",
        "* __ mean reward__ is the average reward per game. For a correct implementation it may stay low for some 10 epochs, then start growing while oscilating insanely and converges by ~50-100 steps depending on the network architecture.\n",
        "* If it never reaches target score by the end of for loop, try increasing the number of hidden neurons or look at the epsilon.\n",
        "* __ epsilon__ - agent's willingness to explore. If you see that agent's already at < 0.01 epsilon before it's is at least 200, just reset it back to 0.1 - 0.5."
      ]
    }
  ],
  "metadata": {
    "kernelspec": {
      "display_name": "Python 3",
      "language": "python",
      "name": "python3"
    },
    "language_info": {
      "codemirror_mode": {
        "name": "ipython",
        "version": 3
      },
      "file_extension": ".py",
      "mimetype": "text/x-python",
      "name": "python",
      "nbconvert_exporter": "python",
      "pygments_lexer": "ipython3",
      "version": "3.8.3"
    },
    "colab": {
      "provenance": []
    }
  },
  "nbformat": 4,
  "nbformat_minor": 0
}